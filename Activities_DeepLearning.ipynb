{
 "cells": [
  {
   "cell_type": "markdown",
   "metadata": {},
   "source": [
    "# Activities\n",
    "\n",
    "1. Read the following:\n",
    "    - https://machinelearningmastery.com/neural-networks-crash-course/\n",
    "    - https://machinelearningmastery.com/crash-course-convolutional-neural-networks/\n",
    "    - https://machinelearningmastery.com/crash-course-recurrent-neural-networks-deep-learning/\n",
    "    - Or, watch: https://www.youtube.com/watch?v=WCUNPb-5EYI\n",
    "2. Can you create one of the three models that we have studied today with your data set? Why did you choose a particular model?"
   ]
  }
 ],
 "metadata": {
  "kernelspec": {
   "display_name": "Python 3",
   "language": "python",
   "name": "python3"
  },
  "language_info": {
   "codemirror_mode": {
    "name": "ipython",
    "version": 3
   },
   "file_extension": ".py",
   "mimetype": "text/x-python",
   "name": "python",
   "nbconvert_exporter": "python",
   "pygments_lexer": "ipython3",
   "version": "3.8.5"
  }
 },
 "nbformat": 4,
 "nbformat_minor": 4
}
