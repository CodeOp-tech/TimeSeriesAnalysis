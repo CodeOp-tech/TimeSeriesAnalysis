{
 "cells": [
  {
   "cell_type": "markdown",
   "metadata": {},
   "source": [
    "# Introduction\n",
    "\n",
    "\n",
    "## Activities\n",
    "\n",
    "Find publicly available data of **your interest** with time variable. Download them, and finally change the date column of the variable using datetime library.\n",
    "\n",
    "I believe the best way to learn is by doing. Motivation is high when you are working on a subject of personal interest. \n",
    "\n",
    "To take advantage of the small class, I would like to make the activities personalized to a data set of your interest. After each lecture, when you are off to do your activities, I would like you to try doing the activities/exercises on the data set of  your choosing. Here are some examples of time series data:\n",
    "    - [Yahoo Finance](https://finance.yahoo.com/) historical stock/bond/ETF price data\n",
    "    - [St. Louis Fed](https://fred.stlouisfed.org/series/GDP) or [BLS](https://www.bls.gov/data/#unemployment) for any macroeconomic data\n",
    "    - [COVID](https://www.ecdc.europa.eu/en/publications-data/download-todays-data-geographic-distribution-covid-19-cases-worldwide)\n",
    "    - [Google Trends](https://trends.google.com/trends/?geo=US)\n"
   ]
  }
 ],
 "metadata": {
  "kernelspec": {
   "display_name": "Python 3",
   "language": "python",
   "name": "python3"
  },
  "language_info": {
   "codemirror_mode": {
    "name": "ipython",
    "version": 3
   },
   "file_extension": ".py",
   "mimetype": "text/x-python",
   "name": "python",
   "nbconvert_exporter": "python",
   "pygments_lexer": "ipython3",
   "version": "3.8.5"
  }
 },
 "nbformat": 4,
 "nbformat_minor": 4
}
