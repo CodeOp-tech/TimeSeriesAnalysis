{
 "cells": [
  {
   "cell_type": "markdown",
   "metadata": {},
   "source": [
    "\n",
    "# Lags, Differencing, AR, and MA\n",
    "## Activities\n",
    "\n",
    "All of the activities below should be done with your chosen data set. \n",
    "\n",
    "1. Graph lag and differences.\n",
    "2. Code AR models (play around with different hypterparameters), and visualize.\n",
    "3. Code MA models (play around with different hypterparameters), and visuzlize."
   ]
  }
 ],
 "metadata": {
  "kernelspec": {
   "display_name": "Python 3",
   "language": "python",
   "name": "python3"
  },
  "language_info": {
   "codemirror_mode": {
    "name": "ipython",
    "version": 3
   },
   "file_extension": ".py",
   "mimetype": "text/x-python",
   "name": "python",
   "nbconvert_exporter": "python",
   "pygments_lexer": "ipython3",
   "version": "3.8.5"
  }
 },
 "nbformat": 4,
 "nbformat_minor": 4
}
