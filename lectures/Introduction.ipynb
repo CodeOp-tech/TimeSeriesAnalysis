{
 "cells": [
  {
   "cell_type": "markdown",
   "metadata": {},
   "source": [
    "# Introduction\n",
    "\n",
    "## Agenda\n",
    "- Introduction to time series\n",
    "- Datetime library in Python\n",
    "- Wrangle data in Python\n",
    "- Visualize time series data\n",
    "\n",
    "### What is / Why Time Series?\n",
    "- Data drawn from a distribution correlated over time. (You have implictly assumed that data was drawn from an independent distribution.)\n",
    "- As a data analyst, you WILL encounter time series data. \n",
    "- Examples:\n",
    "    - Economics/Finance: Stock, bond, other asset prices, government policies\n",
    "    - Science/AI: climate (change) data, speech recognition\n",
    "    - Business: user behavior data \n",
    "    \n",
    "For example,"
   ]
  },
  {
   "cell_type": "code",
   "execution_count": 60,
   "metadata": {},
   "outputs": [
    {
     "ename": "FileNotFoundError",
     "evalue": "[Errno 2] No such file or directory: 'images/sp500.png'",
     "output_type": "error",
     "traceback": [
      "\u001b[1;31m---------------------------------------------------------------------------\u001b[0m",
      "\u001b[1;31mFileNotFoundError\u001b[0m                         Traceback (most recent call last)",
      "\u001b[1;32m<ipython-input-60-c7018c22f18b>\u001b[0m in \u001b[0;36m<module>\u001b[1;34m\u001b[0m\n\u001b[0;32m      1\u001b[0m \u001b[1;32mfrom\u001b[0m \u001b[0mPIL\u001b[0m \u001b[1;32mimport\u001b[0m \u001b[0mImage\u001b[0m\u001b[1;33m\u001b[0m\u001b[1;33m\u001b[0m\u001b[0m\n\u001b[1;32m----> 2\u001b[1;33m \u001b[0mImage\u001b[0m\u001b[1;33m.\u001b[0m\u001b[0mopen\u001b[0m\u001b[1;33m(\u001b[0m\u001b[1;34m\"images/sp500.png\"\u001b[0m\u001b[1;33m)\u001b[0m\u001b[1;33m\u001b[0m\u001b[1;33m\u001b[0m\u001b[0m\n\u001b[0m",
      "\u001b[1;32mC:\\ProgramData\\Anaconda3\\lib\\site-packages\\PIL\\Image.py\u001b[0m in \u001b[0;36mopen\u001b[1;34m(fp, mode, formats)\u001b[0m\n\u001b[0;32m   2889\u001b[0m \u001b[1;33m\u001b[0m\u001b[0m\n\u001b[0;32m   2890\u001b[0m     \u001b[1;32mif\u001b[0m \u001b[0mfilename\u001b[0m\u001b[1;33m:\u001b[0m\u001b[1;33m\u001b[0m\u001b[1;33m\u001b[0m\u001b[0m\n\u001b[1;32m-> 2891\u001b[1;33m         \u001b[0mfp\u001b[0m \u001b[1;33m=\u001b[0m \u001b[0mbuiltins\u001b[0m\u001b[1;33m.\u001b[0m\u001b[0mopen\u001b[0m\u001b[1;33m(\u001b[0m\u001b[0mfilename\u001b[0m\u001b[1;33m,\u001b[0m \u001b[1;34m\"rb\"\u001b[0m\u001b[1;33m)\u001b[0m\u001b[1;33m\u001b[0m\u001b[1;33m\u001b[0m\u001b[0m\n\u001b[0m\u001b[0;32m   2892\u001b[0m         \u001b[0mexclusive_fp\u001b[0m \u001b[1;33m=\u001b[0m \u001b[1;32mTrue\u001b[0m\u001b[1;33m\u001b[0m\u001b[1;33m\u001b[0m\u001b[0m\n\u001b[0;32m   2893\u001b[0m \u001b[1;33m\u001b[0m\u001b[0m\n",
      "\u001b[1;31mFileNotFoundError\u001b[0m: [Errno 2] No such file or directory: 'images/sp500.png'"
     ]
    }
   ],
   "source": [
    "from PIL import Image\n",
    "Image.open(\"images/sp500.png\")"
   ]
  },
  {
   "cell_type": "markdown",
   "metadata": {},
   "source": [
    "In a time series, time is often the independent variable and the goal is to make a forecast for the future. From the historical data, we can find some **patterns or trend** which will help us understand the movement and forecast. Some concepts to help you recognize patterns:\n",
    "\n",
    "For example,"
   ]
  },
  {
   "cell_type": "code",
   "execution_count": null,
   "metadata": {
    "scrolled": false
   },
   "outputs": [],
   "source": [
    "Image.open(\"images/pattern.png\")"
   ]
  },
  {
   "cell_type": "markdown",
   "metadata": {},
   "source": [
    "1. The monthly housing sales (top left) show seasonality within each year. \n",
    "2. The US treasury bill contracts (top right) show results from the Chicago market for 100 consecutive trading days in 1981. Here there is no seasonality, but an obvious downward trend. Possibly, if we had a much longer series, we would see that this downward trend is actually part of a long cycle, but when viewed over only 100 days it appears to be a trend.\n",
    "\n",
    "What do you think about the othe two graphs?\n",
    "3. The Australian quarterly electricity production (bottom left).\n",
    "4. The daily change in the Google closing stock price (bottom right)."
   ]
  },
  {
   "cell_type": "markdown",
   "metadata": {},
   "source": [
    "## Time Series in Python\n",
    "\n",
    "Python has built in tools for dealing with time data, and we will first familiarize ourselves.\n",
    "\n",
    "### Data Structure\n",
    "- Many observations from same individual/sample over time (i.e., $Y_t$ where $t=1,...,T$)\n",
    "- Detailed time information (e.g., $X_t=$ 2020-09-23 3-PM)\n",
    "\n",
    "For example,"
   ]
  },
  {
   "cell_type": "code",
   "execution_count": null,
   "metadata": {},
   "outputs": [],
   "source": [
    "import pandas as pd\n",
    "data = pd.read_fwf(\"http://www.cpc.ncep.noaa.gov/products/precip/CWlink/daily_ao_index/monthly.ao.index.b50.current.ascii\", parse_dates = [[0, 1]], infer_datetime_format = True, header = None,)\n",
    "data.head()"
   ]
  },
  {
   "cell_type": "markdown",
   "metadata": {},
   "source": [
    "## Datetime in Pandas\n",
    "\n",
    "- Pandas has a build-in feature to handle the time data with ease\n",
    "- Built in data structures\n",
    "    - Time Stamp\n",
    "    - Time Delta\n",
    "    - Time Period\n",
    "- To handle these structures, need numpy package"
   ]
  },
  {
   "cell_type": "markdown",
   "metadata": {},
   "source": [
    "### Timestamp"
   ]
  },
  {
   "cell_type": "code",
   "execution_count": null,
   "metadata": {},
   "outputs": [],
   "source": [
    "import pandas as pd\n",
    "import numpy as np\n",
    "from datetime import datetime"
   ]
  },
  {
   "cell_type": "code",
   "execution_count": null,
   "metadata": {},
   "outputs": [],
   "source": [
    "pd.date_range('2021 Feb 01', periods = 5, freq = 'd')"
   ]
  },
  {
   "cell_type": "code",
   "execution_count": null,
   "metadata": {},
   "outputs": [],
   "source": [
    "pd.Timestamp('2021-02-01')"
   ]
  },
  {
   "cell_type": "code",
   "execution_count": null,
   "metadata": {},
   "outputs": [],
   "source": [
    "pd.Timestamp('02-01-2020 09:00',tz=\"Europe/London\")"
   ]
  },
  {
   "cell_type": "markdown",
   "metadata": {},
   "source": [
    "### Timedelta\n",
    "- Can take both positive and negative values"
   ]
  },
  {
   "cell_type": "code",
   "execution_count": null,
   "metadata": {},
   "outputs": [],
   "source": [
    "pd.Timedelta('1 day')"
   ]
  },
  {
   "cell_type": "code",
   "execution_count": null,
   "metadata": {},
   "outputs": [],
   "source": [
    "pd.Timestamp('2021-02-01 18:53') - pd.Timedelta('90 m')"
   ]
  },
  {
   "cell_type": "markdown",
   "metadata": {},
   "source": [
    "### Timeperiod\n",
    "- Refer to specific length of time between a start and end time stamp\n",
    "- Fancier setting allowed such as business days"
   ]
  },
  {
   "cell_type": "code",
   "execution_count": null,
   "metadata": {},
   "outputs": [],
   "source": [
    "pd.Period('2020-09-23')"
   ]
  },
  {
   "cell_type": "code",
   "execution_count": null,
   "metadata": {},
   "outputs": [],
   "source": [
    "pd.Period('2020-09-23')"
   ]
  },
  {
   "cell_type": "code",
   "execution_count": null,
   "metadata": {},
   "outputs": [],
   "source": [
    "pd.period_range('2021-02-01 09:00:00', freq = 'B', periods = 10)"
   ]
  },
  {
   "cell_type": "code",
   "execution_count": null,
   "metadata": {},
   "outputs": [],
   "source": [
    "pd.date_range('2021 Feb 01', freq = 'B', periods = 10)"
   ]
  },
  {
   "cell_type": "code",
   "execution_count": null,
   "metadata": {},
   "outputs": [],
   "source": [
    "temp = pd.Series(range(10), pd.date_range('2020-09-23 09:00', periods = 10, freq = 'H'))\n",
    "temp"
   ]
  },
  {
   "cell_type": "code",
   "execution_count": null,
   "metadata": {},
   "outputs": [],
   "source": [
    "type(temp)"
   ]
  },
  {
   "cell_type": "markdown",
   "metadata": {},
   "source": [
    "###  Format\n",
    "- There exist a pre-existing datetime object: (year, month, day, hour, minute, second, microsecond, and tzinfo).\n",
    "- The current Gregorian calendar indefinitely extended in both directions.\n",
    "- Often you will the date will be read in a string form, then reformat with \"strptime\"."
   ]
  },
  {
   "cell_type": "code",
   "execution_count": null,
   "metadata": {},
   "outputs": [],
   "source": [
    "datetime.fromisoformat('2019-12-04')"
   ]
  },
  {
   "cell_type": "code",
   "execution_count": null,
   "metadata": {},
   "outputs": [],
   "source": [
    "datetime.strptime(\"01/02/2021\", \"%d/%m/%Y\")"
   ]
  },
  {
   "cell_type": "code",
   "execution_count": null,
   "metadata": {},
   "outputs": [],
   "source": [
    "datetime.strptime(\"09/11/2018\", \"%m/%d/%Y\")"
   ]
  },
  {
   "cell_type": "code",
   "execution_count": null,
   "metadata": {},
   "outputs": [],
   "source": [
    "datetime.fromisoformat('2019-12-04')"
   ]
  },
  {
   "cell_type": "code",
   "execution_count": null,
   "metadata": {},
   "outputs": [],
   "source": [
    "datetime.fromisoformat('2019-12-04').max"
   ]
  },
  {
   "cell_type": "markdown",
   "metadata": {},
   "source": [
    "### Time Zone handling"
   ]
  },
  {
   "cell_type": "code",
   "execution_count": null,
   "metadata": {},
   "outputs": [],
   "source": [
    "pd.Timestamp('02/01/2021 00:00',tz='Europe/London')"
   ]
  },
  {
   "cell_type": "code",
   "execution_count": 61,
   "metadata": {},
   "outputs": [
    {
     "data": {
      "text/plain": [
       "2020-09-23 09:00:00+01:00    0\n",
       "2020-09-23 10:00:00+01:00    1\n",
       "2020-09-23 11:00:00+01:00    2\n",
       "2020-09-23 12:00:00+01:00    3\n",
       "2020-09-23 13:00:00+01:00    4\n",
       "2020-09-23 14:00:00+01:00    5\n",
       "2020-09-23 15:00:00+01:00    6\n",
       "2020-09-23 16:00:00+01:00    7\n",
       "2020-09-23 17:00:00+01:00    8\n",
       "2020-09-23 18:00:00+01:00    9\n",
       "dtype: int64"
      ]
     },
     "execution_count": 61,
     "metadata": {},
     "output_type": "execute_result"
    }
   ],
   "source": [
    "temp_london = temp.tz_localize(tz = 'Europe/London')\n",
    "temp_london"
   ]
  },
  {
   "cell_type": "code",
   "execution_count": 62,
   "metadata": {},
   "outputs": [
    {
     "data": {
      "text/plain": [
       "2020-09-23 17:00:00+09:00    0\n",
       "2020-09-23 18:00:00+09:00    1\n",
       "2020-09-23 19:00:00+09:00    2\n",
       "2020-09-23 20:00:00+09:00    3\n",
       "2020-09-23 21:00:00+09:00    4\n",
       "2020-09-23 22:00:00+09:00    5\n",
       "2020-09-23 23:00:00+09:00    6\n",
       "2020-09-24 00:00:00+09:00    7\n",
       "2020-09-24 01:00:00+09:00    8\n",
       "2020-09-24 02:00:00+09:00    9\n",
       "dtype: int64"
      ]
     },
     "execution_count": 62,
     "metadata": {},
     "output_type": "execute_result"
    }
   ],
   "source": [
    "temp_tokyo = temp_london.tz_convert('Asia/Tokyo')\n",
    "temp_tokyo"
   ]
  },
  {
   "cell_type": "markdown",
   "metadata": {},
   "source": [
    "### Resampling"
   ]
  },
  {
   "cell_type": "code",
   "execution_count": 63,
   "metadata": {
    "scrolled": false
   },
   "outputs": [
    {
     "data": {
      "text/plain": [
       "2011-01-01 00:00:00    0.140692\n",
       "2011-01-01 01:00:00    0.247264\n",
       "2011-01-01 02:00:00    1.197636\n",
       "2011-01-01 03:00:00   -0.059421\n",
       "2011-01-01 04:00:00    1.235466\n",
       "2011-01-01 05:00:00   -0.003967\n",
       "2011-01-01 06:00:00    0.350888\n",
       "2011-01-01 07:00:00   -0.660633\n",
       "2011-01-01 08:00:00   -0.179853\n",
       "2011-01-01 09:00:00   -0.053584\n",
       "Freq: H, dtype: float64"
      ]
     },
     "execution_count": 63,
     "metadata": {},
     "output_type": "execute_result"
    }
   ],
   "source": [
    "temp = pd.date_range('1/1/2011', periods=10, freq='H')\n",
    "dates = pd.Series(np.random.randn(len(temp)), index=temp)\n",
    "dates"
   ]
  },
  {
   "cell_type": "code",
   "execution_count": 64,
   "metadata": {},
   "outputs": [
    {
     "data": {
      "text/plain": [
       "2011-01-01 00:00:00    0.140692\n",
       "2011-01-01 00:45:00         NaN\n",
       "2011-01-01 01:30:00         NaN\n",
       "2011-01-01 02:15:00         NaN\n",
       "2011-01-01 03:00:00   -0.059421\n",
       "2011-01-01 03:45:00         NaN\n",
       "2011-01-01 04:30:00         NaN\n",
       "2011-01-01 05:15:00         NaN\n",
       "2011-01-01 06:00:00    0.350888\n",
       "2011-01-01 06:45:00         NaN\n",
       "2011-01-01 07:30:00         NaN\n",
       "2011-01-01 08:15:00         NaN\n",
       "2011-01-01 09:00:00   -0.053584\n",
       "Freq: 45T, dtype: float64"
      ]
     },
     "execution_count": 64,
     "metadata": {},
     "output_type": "execute_result"
    }
   ],
   "source": [
    "dates.asfreq('45Min')"
   ]
  },
  {
   "cell_type": "code",
   "execution_count": 65,
   "metadata": {},
   "outputs": [
    {
     "data": {
      "text/plain": [
       "2011-01-01 00:00:00    0.791119\n",
       "2011-01-01 00:45:00    0.791119\n",
       "2011-01-01 01:30:00    0.192606\n",
       "2011-01-01 02:15:00    1.957552\n",
       "2011-01-01 03:00:00   -0.743377\n",
       "2011-01-01 03:45:00   -0.743377\n",
       "2011-01-01 04:30:00    0.577721\n",
       "2011-01-01 05:15:00   -1.147450\n",
       "2011-01-01 06:00:00    1.253117\n",
       "2011-01-01 06:45:00    1.253117\n",
       "2011-01-01 07:30:00    0.705322\n",
       "2011-01-01 08:15:00    1.019986\n",
       "2011-01-01 09:00:00   -0.250607\n",
       "Freq: 45T, dtype: float64"
      ]
     },
     "execution_count": 65,
     "metadata": {},
     "output_type": "execute_result"
    }
   ],
   "source": [
    "temp1 = pd.Series(np.random.randn(len(temp)), index=temp)\n",
    "temp1.asfreq('45Min',method=\"ffill\")"
   ]
  },
  {
   "cell_type": "code",
   "execution_count": 66,
   "metadata": {},
   "outputs": [
    {
     "data": {
      "text/plain": [
       "2011-01-01 00:00:00   -0.262343\n",
       "2011-01-01 00:45:00   -2.189405\n",
       "2011-01-01 01:30:00    0.508326\n",
       "2011-01-01 02:15:00    0.993332\n",
       "2011-01-01 03:00:00    0.993332\n",
       "2011-01-01 03:45:00   -1.081545\n",
       "2011-01-01 04:30:00    1.151360\n",
       "2011-01-01 05:15:00   -0.381282\n",
       "2011-01-01 06:00:00   -0.381282\n",
       "2011-01-01 06:45:00    0.499630\n",
       "2011-01-01 07:30:00    0.339500\n",
       "2011-01-01 08:15:00   -1.064765\n",
       "2011-01-01 09:00:00   -1.064765\n",
       "Freq: 45T, dtype: float64"
      ]
     },
     "execution_count": 66,
     "metadata": {},
     "output_type": "execute_result"
    }
   ],
   "source": [
    "temp1 = pd.Series(np.random.randn(len(temp)), index=temp)\n",
    "temp1.asfreq('45Min',method=\"bfill\")"
   ]
  },
  {
   "cell_type": "markdown",
   "metadata": {},
   "source": [
    "## Empirical Case: New Year's Resolution\n",
    "\n",
    "\n",
    "In this session, we're going to check out Google trends data of keywords 'diet', 'gym' and 'finance' to see how they vary over time. Could there be more searches for these terms in January when we're all trying to turn over a new leaf? We're not going to do much mathematics today but we'll source Our data, visualize it and learn about trends and seasonality in time series data. First if all, we will focus on a visual exploration of the dataset in question, and then we will predict its values sometime in the future.\n",
    "\n",
    "So the question remains: could there be more searches for these terms in January when we're all trying to turn over a new leaf? Let's find out by going [here](https://trends.google.com/trends/explore?date=all&q=diet,gym,finance) and checking out the data (inspired this [this fivethirtyeight piece](https://fivethirtyeight.com/features/how-fast-youll-abandon-your-new-years-resolutions/)).\n",
    "\n",
    "###  Reading In Data\n",
    "\n",
    "Let's read in some data:"
   ]
  },
  {
   "cell_type": "code",
   "execution_count": 67,
   "metadata": {},
   "outputs": [
    {
     "data": {
      "text/html": [
       "<div>\n",
       "<style scoped>\n",
       "    .dataframe tbody tr th:only-of-type {\n",
       "        vertical-align: middle;\n",
       "    }\n",
       "\n",
       "    .dataframe tbody tr th {\n",
       "        vertical-align: top;\n",
       "    }\n",
       "\n",
       "    .dataframe thead th {\n",
       "        text-align: right;\n",
       "    }\n",
       "</style>\n",
       "<table border=\"1\" class=\"dataframe\">\n",
       "  <thead>\n",
       "    <tr style=\"text-align: right;\">\n",
       "      <th></th>\n",
       "      <th>Month</th>\n",
       "      <th>diet: (United States)</th>\n",
       "      <th>gym: (United States)</th>\n",
       "      <th>finance: (United States)</th>\n",
       "    </tr>\n",
       "  </thead>\n",
       "  <tbody>\n",
       "    <tr>\n",
       "      <th>0</th>\n",
       "      <td>2004-01</td>\n",
       "      <td>100</td>\n",
       "      <td>22</td>\n",
       "      <td>28</td>\n",
       "    </tr>\n",
       "    <tr>\n",
       "      <th>1</th>\n",
       "      <td>2004-02</td>\n",
       "      <td>79</td>\n",
       "      <td>18</td>\n",
       "      <td>29</td>\n",
       "    </tr>\n",
       "    <tr>\n",
       "      <th>2</th>\n",
       "      <td>2004-03</td>\n",
       "      <td>69</td>\n",
       "      <td>19</td>\n",
       "      <td>27</td>\n",
       "    </tr>\n",
       "    <tr>\n",
       "      <th>3</th>\n",
       "      <td>2004-04</td>\n",
       "      <td>68</td>\n",
       "      <td>15</td>\n",
       "      <td>28</td>\n",
       "    </tr>\n",
       "    <tr>\n",
       "      <th>4</th>\n",
       "      <td>2004-05</td>\n",
       "      <td>77</td>\n",
       "      <td>17</td>\n",
       "      <td>27</td>\n",
       "    </tr>\n",
       "    <tr>\n",
       "      <th>5</th>\n",
       "      <td>2004-06</td>\n",
       "      <td>67</td>\n",
       "      <td>17</td>\n",
       "      <td>26</td>\n",
       "    </tr>\n",
       "    <tr>\n",
       "      <th>6</th>\n",
       "      <td>2004-07</td>\n",
       "      <td>61</td>\n",
       "      <td>19</td>\n",
       "      <td>30</td>\n",
       "    </tr>\n",
       "    <tr>\n",
       "      <th>7</th>\n",
       "      <td>2004-08</td>\n",
       "      <td>55</td>\n",
       "      <td>17</td>\n",
       "      <td>29</td>\n",
       "    </tr>\n",
       "    <tr>\n",
       "      <th>8</th>\n",
       "      <td>2004-09</td>\n",
       "      <td>53</td>\n",
       "      <td>18</td>\n",
       "      <td>28</td>\n",
       "    </tr>\n",
       "    <tr>\n",
       "      <th>9</th>\n",
       "      <td>2004-10</td>\n",
       "      <td>51</td>\n",
       "      <td>17</td>\n",
       "      <td>28</td>\n",
       "    </tr>\n",
       "    <tr>\n",
       "      <th>10</th>\n",
       "      <td>2004-11</td>\n",
       "      <td>48</td>\n",
       "      <td>17</td>\n",
       "      <td>29</td>\n",
       "    </tr>\n",
       "    <tr>\n",
       "      <th>11</th>\n",
       "      <td>2004-12</td>\n",
       "      <td>45</td>\n",
       "      <td>20</td>\n",
       "      <td>27</td>\n",
       "    </tr>\n",
       "    <tr>\n",
       "      <th>12</th>\n",
       "      <td>2005-01</td>\n",
       "      <td>63</td>\n",
       "      <td>24</td>\n",
       "      <td>29</td>\n",
       "    </tr>\n",
       "    <tr>\n",
       "      <th>13</th>\n",
       "      <td>2005-02</td>\n",
       "      <td>54</td>\n",
       "      <td>21</td>\n",
       "      <td>31</td>\n",
       "    </tr>\n",
       "    <tr>\n",
       "      <th>14</th>\n",
       "      <td>2005-03</td>\n",
       "      <td>57</td>\n",
       "      <td>20</td>\n",
       "      <td>31</td>\n",
       "    </tr>\n",
       "  </tbody>\n",
       "</table>\n",
       "</div>"
      ],
      "text/plain": [
       "      Month  diet: (United States)  gym: (United States)  \\\n",
       "0   2004-01                    100                    22   \n",
       "1   2004-02                     79                    18   \n",
       "2   2004-03                     69                    19   \n",
       "3   2004-04                     68                    15   \n",
       "4   2004-05                     77                    17   \n",
       "5   2004-06                     67                    17   \n",
       "6   2004-07                     61                    19   \n",
       "7   2004-08                     55                    17   \n",
       "8   2004-09                     53                    18   \n",
       "9   2004-10                     51                    17   \n",
       "10  2004-11                     48                    17   \n",
       "11  2004-12                     45                    20   \n",
       "12  2005-01                     63                    24   \n",
       "13  2005-02                     54                    21   \n",
       "14  2005-03                     57                    20   \n",
       "\n",
       "    finance: (United States)  \n",
       "0                         28  \n",
       "1                         29  \n",
       "2                         27  \n",
       "3                         28  \n",
       "4                         27  \n",
       "5                         26  \n",
       "6                         30  \n",
       "7                         29  \n",
       "8                         28  \n",
       "9                         28  \n",
       "10                        29  \n",
       "11                        27  \n",
       "12                        29  \n",
       "13                        31  \n",
       "14                        31  "
      ]
     },
     "execution_count": 67,
     "metadata": {},
     "output_type": "execute_result"
    }
   ],
   "source": [
    "df = pd.read_csv('../data/multiTimeline.csv', skiprows=1)\n",
    "df.head(15)"
   ]
  },
  {
   "cell_type": "markdown",
   "metadata": {},
   "source": [
    "Use the .info() method to check out your data types, number of rows and more:"
   ]
  },
  {
   "cell_type": "code",
   "execution_count": 68,
   "metadata": {},
   "outputs": [
    {
     "name": "stdout",
     "output_type": "stream",
     "text": [
      "<class 'pandas.core.frame.DataFrame'>\n",
      "RangeIndex: 205 entries, 0 to 204\n",
      "Data columns (total 4 columns):\n",
      " #   Column                    Non-Null Count  Dtype \n",
      "---  ------                    --------------  ----- \n",
      " 0   Month                     205 non-null    object\n",
      " 1   diet: (United States)     205 non-null    int64 \n",
      " 2   gym: (United States)      205 non-null    int64 \n",
      " 3   finance: (United States)  205 non-null    int64 \n",
      "dtypes: int64(3), object(1)\n",
      "memory usage: 6.5+ KB\n"
     ]
    }
   ],
   "source": [
    "df.info()"
   ]
  },
  {
   "cell_type": "code",
   "execution_count": 69,
   "metadata": {},
   "outputs": [
    {
     "data": {
      "text/html": [
       "<div>\n",
       "<style scoped>\n",
       "    .dataframe tbody tr th:only-of-type {\n",
       "        vertical-align: middle;\n",
       "    }\n",
       "\n",
       "    .dataframe tbody tr th {\n",
       "        vertical-align: top;\n",
       "    }\n",
       "\n",
       "    .dataframe thead th {\n",
       "        text-align: right;\n",
       "    }\n",
       "</style>\n",
       "<table border=\"1\" class=\"dataframe\">\n",
       "  <thead>\n",
       "    <tr style=\"text-align: right;\">\n",
       "      <th></th>\n",
       "      <th>diet: (United States)</th>\n",
       "      <th>gym: (United States)</th>\n",
       "      <th>finance: (United States)</th>\n",
       "    </tr>\n",
       "  </thead>\n",
       "  <tbody>\n",
       "    <tr>\n",
       "      <th>count</th>\n",
       "      <td>205.000000</td>\n",
       "      <td>205.000000</td>\n",
       "      <td>205.000000</td>\n",
       "    </tr>\n",
       "    <tr>\n",
       "      <th>mean</th>\n",
       "      <td>54.312195</td>\n",
       "      <td>26.951220</td>\n",
       "      <td>37.873171</td>\n",
       "    </tr>\n",
       "    <tr>\n",
       "      <th>std</th>\n",
       "      <td>9.828934</td>\n",
       "      <td>5.621873</td>\n",
       "      <td>6.371929</td>\n",
       "    </tr>\n",
       "    <tr>\n",
       "      <th>min</th>\n",
       "      <td>34.000000</td>\n",
       "      <td>15.000000</td>\n",
       "      <td>25.000000</td>\n",
       "    </tr>\n",
       "    <tr>\n",
       "      <th>25%</th>\n",
       "      <td>47.000000</td>\n",
       "      <td>23.000000</td>\n",
       "      <td>34.000000</td>\n",
       "    </tr>\n",
       "    <tr>\n",
       "      <th>50%</th>\n",
       "      <td>53.000000</td>\n",
       "      <td>27.000000</td>\n",
       "      <td>37.000000</td>\n",
       "    </tr>\n",
       "    <tr>\n",
       "      <th>75%</th>\n",
       "      <td>60.000000</td>\n",
       "      <td>31.000000</td>\n",
       "      <td>41.000000</td>\n",
       "    </tr>\n",
       "    <tr>\n",
       "      <th>max</th>\n",
       "      <td>100.000000</td>\n",
       "      <td>49.000000</td>\n",
       "      <td>73.000000</td>\n",
       "    </tr>\n",
       "  </tbody>\n",
       "</table>\n",
       "</div>"
      ],
      "text/plain": [
       "       diet: (United States)  gym: (United States)  finance: (United States)\n",
       "count             205.000000            205.000000                205.000000\n",
       "mean               54.312195             26.951220                 37.873171\n",
       "std                 9.828934              5.621873                  6.371929\n",
       "min                34.000000             15.000000                 25.000000\n",
       "25%                47.000000             23.000000                 34.000000\n",
       "50%                53.000000             27.000000                 37.000000\n",
       "75%                60.000000             31.000000                 41.000000\n",
       "max               100.000000             49.000000                 73.000000"
      ]
     },
     "execution_count": 69,
     "metadata": {},
     "output_type": "execute_result"
    }
   ],
   "source": [
    "df.describe()"
   ]
  },
  {
   "cell_type": "code",
   "execution_count": 70,
   "metadata": {},
   "outputs": [
    {
     "data": {
      "text/html": [
       "<div>\n",
       "<style scoped>\n",
       "    .dataframe tbody tr th:only-of-type {\n",
       "        vertical-align: middle;\n",
       "    }\n",
       "\n",
       "    .dataframe tbody tr th {\n",
       "        vertical-align: top;\n",
       "    }\n",
       "\n",
       "    .dataframe thead th {\n",
       "        text-align: right;\n",
       "    }\n",
       "</style>\n",
       "<table border=\"1\" class=\"dataframe\">\n",
       "  <thead>\n",
       "    <tr style=\"text-align: right;\">\n",
       "      <th></th>\n",
       "      <th>month</th>\n",
       "      <th>diet</th>\n",
       "      <th>gym</th>\n",
       "      <th>finance</th>\n",
       "    </tr>\n",
       "  </thead>\n",
       "  <tbody>\n",
       "    <tr>\n",
       "      <th>0</th>\n",
       "      <td>2004-01</td>\n",
       "      <td>100</td>\n",
       "      <td>22</td>\n",
       "      <td>28</td>\n",
       "    </tr>\n",
       "    <tr>\n",
       "      <th>1</th>\n",
       "      <td>2004-02</td>\n",
       "      <td>79</td>\n",
       "      <td>18</td>\n",
       "      <td>29</td>\n",
       "    </tr>\n",
       "    <tr>\n",
       "      <th>2</th>\n",
       "      <td>2004-03</td>\n",
       "      <td>69</td>\n",
       "      <td>19</td>\n",
       "      <td>27</td>\n",
       "    </tr>\n",
       "    <tr>\n",
       "      <th>3</th>\n",
       "      <td>2004-04</td>\n",
       "      <td>68</td>\n",
       "      <td>15</td>\n",
       "      <td>28</td>\n",
       "    </tr>\n",
       "    <tr>\n",
       "      <th>4</th>\n",
       "      <td>2004-05</td>\n",
       "      <td>77</td>\n",
       "      <td>17</td>\n",
       "      <td>27</td>\n",
       "    </tr>\n",
       "    <tr>\n",
       "      <th>...</th>\n",
       "      <td>...</td>\n",
       "      <td>...</td>\n",
       "      <td>...</td>\n",
       "      <td>...</td>\n",
       "    </tr>\n",
       "    <tr>\n",
       "      <th>200</th>\n",
       "      <td>2020-09</td>\n",
       "      <td>39</td>\n",
       "      <td>26</td>\n",
       "      <td>43</td>\n",
       "    </tr>\n",
       "    <tr>\n",
       "      <th>201</th>\n",
       "      <td>2020-10</td>\n",
       "      <td>41</td>\n",
       "      <td>25</td>\n",
       "      <td>42</td>\n",
       "    </tr>\n",
       "    <tr>\n",
       "      <th>202</th>\n",
       "      <td>2020-11</td>\n",
       "      <td>34</td>\n",
       "      <td>26</td>\n",
       "      <td>43</td>\n",
       "    </tr>\n",
       "    <tr>\n",
       "      <th>203</th>\n",
       "      <td>2020-12</td>\n",
       "      <td>34</td>\n",
       "      <td>26</td>\n",
       "      <td>45</td>\n",
       "    </tr>\n",
       "    <tr>\n",
       "      <th>204</th>\n",
       "      <td>2021-01</td>\n",
       "      <td>49</td>\n",
       "      <td>31</td>\n",
       "      <td>50</td>\n",
       "    </tr>\n",
       "  </tbody>\n",
       "</table>\n",
       "<p>205 rows × 4 columns</p>\n",
       "</div>"
      ],
      "text/plain": [
       "       month  diet  gym  finance\n",
       "0    2004-01   100   22       28\n",
       "1    2004-02    79   18       29\n",
       "2    2004-03    69   19       27\n",
       "3    2004-04    68   15       28\n",
       "4    2004-05    77   17       27\n",
       "..       ...   ...  ...      ...\n",
       "200  2020-09    39   26       43\n",
       "201  2020-10    41   25       42\n",
       "202  2020-11    34   26       43\n",
       "203  2020-12    34   26       45\n",
       "204  2021-01    49   31       50\n",
       "\n",
       "[205 rows x 4 columns]"
      ]
     },
     "execution_count": 70,
     "metadata": {},
     "output_type": "execute_result"
    }
   ],
   "source": [
    "df.columns = ['month', 'diet', 'gym', 'finance']\n",
    "df"
   ]
  },
  {
   "cell_type": "code",
   "execution_count": 71,
   "metadata": {},
   "outputs": [
    {
     "data": {
      "text/html": [
       "<div>\n",
       "<style scoped>\n",
       "    .dataframe tbody tr th:only-of-type {\n",
       "        vertical-align: middle;\n",
       "    }\n",
       "\n",
       "    .dataframe tbody tr th {\n",
       "        vertical-align: top;\n",
       "    }\n",
       "\n",
       "    .dataframe thead th {\n",
       "        text-align: right;\n",
       "    }\n",
       "</style>\n",
       "<table border=\"1\" class=\"dataframe\">\n",
       "  <thead>\n",
       "    <tr style=\"text-align: right;\">\n",
       "      <th></th>\n",
       "      <th>month</th>\n",
       "      <th>diet</th>\n",
       "      <th>gym</th>\n",
       "      <th>finance</th>\n",
       "    </tr>\n",
       "  </thead>\n",
       "  <tbody>\n",
       "    <tr>\n",
       "      <th>0</th>\n",
       "      <td>2004-01-01</td>\n",
       "      <td>100</td>\n",
       "      <td>22</td>\n",
       "      <td>28</td>\n",
       "    </tr>\n",
       "    <tr>\n",
       "      <th>1</th>\n",
       "      <td>2004-02-01</td>\n",
       "      <td>79</td>\n",
       "      <td>18</td>\n",
       "      <td>29</td>\n",
       "    </tr>\n",
       "    <tr>\n",
       "      <th>2</th>\n",
       "      <td>2004-03-01</td>\n",
       "      <td>69</td>\n",
       "      <td>19</td>\n",
       "      <td>27</td>\n",
       "    </tr>\n",
       "    <tr>\n",
       "      <th>3</th>\n",
       "      <td>2004-04-01</td>\n",
       "      <td>68</td>\n",
       "      <td>15</td>\n",
       "      <td>28</td>\n",
       "    </tr>\n",
       "    <tr>\n",
       "      <th>4</th>\n",
       "      <td>2004-05-01</td>\n",
       "      <td>77</td>\n",
       "      <td>17</td>\n",
       "      <td>27</td>\n",
       "    </tr>\n",
       "    <tr>\n",
       "      <th>...</th>\n",
       "      <td>...</td>\n",
       "      <td>...</td>\n",
       "      <td>...</td>\n",
       "      <td>...</td>\n",
       "    </tr>\n",
       "    <tr>\n",
       "      <th>200</th>\n",
       "      <td>2020-09-01</td>\n",
       "      <td>39</td>\n",
       "      <td>26</td>\n",
       "      <td>43</td>\n",
       "    </tr>\n",
       "    <tr>\n",
       "      <th>201</th>\n",
       "      <td>2020-10-01</td>\n",
       "      <td>41</td>\n",
       "      <td>25</td>\n",
       "      <td>42</td>\n",
       "    </tr>\n",
       "    <tr>\n",
       "      <th>202</th>\n",
       "      <td>2020-11-01</td>\n",
       "      <td>34</td>\n",
       "      <td>26</td>\n",
       "      <td>43</td>\n",
       "    </tr>\n",
       "    <tr>\n",
       "      <th>203</th>\n",
       "      <td>2020-12-01</td>\n",
       "      <td>34</td>\n",
       "      <td>26</td>\n",
       "      <td>45</td>\n",
       "    </tr>\n",
       "    <tr>\n",
       "      <th>204</th>\n",
       "      <td>2021-01-01</td>\n",
       "      <td>49</td>\n",
       "      <td>31</td>\n",
       "      <td>50</td>\n",
       "    </tr>\n",
       "  </tbody>\n",
       "</table>\n",
       "<p>205 rows × 4 columns</p>\n",
       "</div>"
      ],
      "text/plain": [
       "         month  diet  gym  finance\n",
       "0   2004-01-01   100   22       28\n",
       "1   2004-02-01    79   18       29\n",
       "2   2004-03-01    69   19       27\n",
       "3   2004-04-01    68   15       28\n",
       "4   2004-05-01    77   17       27\n",
       "..         ...   ...  ...      ...\n",
       "200 2020-09-01    39   26       43\n",
       "201 2020-10-01    41   25       42\n",
       "202 2020-11-01    34   26       43\n",
       "203 2020-12-01    34   26       45\n",
       "204 2021-01-01    49   31       50\n",
       "\n",
       "[205 rows x 4 columns]"
      ]
     },
     "execution_count": 71,
     "metadata": {},
     "output_type": "execute_result"
    }
   ],
   "source": [
    "df['month'] = pd.to_datetime(df['month'])\n",
    "df"
   ]
  },
  {
   "cell_type": "code",
   "execution_count": 72,
   "metadata": {},
   "outputs": [
    {
     "data": {
      "text/plain": [
       "0     2004-01-01\n",
       "1     2004-02-01\n",
       "2     2004-03-01\n",
       "3     2004-04-01\n",
       "4     2004-05-01\n",
       "         ...    \n",
       "200   2020-09-01\n",
       "201   2020-10-01\n",
       "202   2020-11-01\n",
       "203   2020-12-01\n",
       "204   2021-01-01\n",
       "Name: month, Length: 205, dtype: datetime64[ns]"
      ]
     },
     "execution_count": 72,
     "metadata": {},
     "output_type": "execute_result"
    }
   ],
   "source": [
    "df['month']"
   ]
  },
  {
   "cell_type": "code",
   "execution_count": 73,
   "metadata": {},
   "outputs": [
    {
     "data": {
      "text/html": [
       "<div>\n",
       "<style scoped>\n",
       "    .dataframe tbody tr th:only-of-type {\n",
       "        vertical-align: middle;\n",
       "    }\n",
       "\n",
       "    .dataframe tbody tr th {\n",
       "        vertical-align: top;\n",
       "    }\n",
       "\n",
       "    .dataframe thead th {\n",
       "        text-align: right;\n",
       "    }\n",
       "</style>\n",
       "<table border=\"1\" class=\"dataframe\">\n",
       "  <thead>\n",
       "    <tr style=\"text-align: right;\">\n",
       "      <th></th>\n",
       "      <th>diet</th>\n",
       "      <th>gym</th>\n",
       "      <th>finance</th>\n",
       "    </tr>\n",
       "    <tr>\n",
       "      <th>month</th>\n",
       "      <th></th>\n",
       "      <th></th>\n",
       "      <th></th>\n",
       "    </tr>\n",
       "  </thead>\n",
       "  <tbody>\n",
       "    <tr>\n",
       "      <th>2004-01-01</th>\n",
       "      <td>100</td>\n",
       "      <td>22</td>\n",
       "      <td>28</td>\n",
       "    </tr>\n",
       "    <tr>\n",
       "      <th>2004-02-01</th>\n",
       "      <td>79</td>\n",
       "      <td>18</td>\n",
       "      <td>29</td>\n",
       "    </tr>\n",
       "    <tr>\n",
       "      <th>2004-03-01</th>\n",
       "      <td>69</td>\n",
       "      <td>19</td>\n",
       "      <td>27</td>\n",
       "    </tr>\n",
       "    <tr>\n",
       "      <th>2004-04-01</th>\n",
       "      <td>68</td>\n",
       "      <td>15</td>\n",
       "      <td>28</td>\n",
       "    </tr>\n",
       "    <tr>\n",
       "      <th>2004-05-01</th>\n",
       "      <td>77</td>\n",
       "      <td>17</td>\n",
       "      <td>27</td>\n",
       "    </tr>\n",
       "  </tbody>\n",
       "</table>\n",
       "</div>"
      ],
      "text/plain": [
       "            diet  gym  finance\n",
       "month                         \n",
       "2004-01-01   100   22       28\n",
       "2004-02-01    79   18       29\n",
       "2004-03-01    69   19       27\n",
       "2004-04-01    68   15       28\n",
       "2004-05-01    77   17       27"
      ]
     },
     "execution_count": 73,
     "metadata": {},
     "output_type": "execute_result"
    }
   ],
   "source": [
    "df.set_index('month', inplace=True)\n",
    "df.head()"
   ]
  },
  {
   "cell_type": "markdown",
   "metadata": {},
   "source": [
    "### Graphing\n",
    "\n",
    "Visualization is a powerful tool for an analyst to recognize any pattern in the data. "
   ]
  },
  {
   "cell_type": "code",
   "execution_count": 74,
   "metadata": {
    "scrolled": false
   },
   "outputs": [
    {
     "data": {
      "text/plain": [
       "Text(0.5, 0, 'Year')"
      ]
     },
     "execution_count": 74,
     "metadata": {},
     "output_type": "execute_result"
    },
    {
     "data": {
      "image/png": "[encoded data removed]",
      "text/plain": [
       "<Figure size 540x540 with 1 Axes>"
      ]
     },
     "metadata": {
      "needs_background": "light"
     },
     "output_type": "display_data"
    }
   ],
   "source": [
    "import matplotlib.pyplot as plt\n",
    "df.plot(figsize=(7.5,7.5), linewidth=2, fontsize=15)\n",
    "plt.xlabel('Year', fontsize=15)"
   ]
  },
  {
   "cell_type": "markdown",
   "metadata": {},
   "source": [
    "## Recap:\n",
    "- You've gotten an overview/introduction to time series.\n",
    "- You've understood how to use datetime library in Python.\n",
    "- You've imported your data from google trends.\n",
    "- You've wrangled your data and gotten it into the form you want to prepare it for analysis.\n",
    "- You've checked out youe time series visually.\n",
    "\n",
    "## Up next:\n",
    "\n",
    "- Identify trends in your time series"
   ]
  },
  {
   "cell_type": "markdown",
   "metadata": {},
   "source": [
    "## References\n",
    "\n",
    "The materials presented here are inspired and modified from the following sources:\n",
    "\n",
    "- https://www.nytimes.com/2020/08/18/business/stock-market-record.html\n",
    "- https://otexts.com/fpp2/\n",
    "- https://github.com/AileenNielsen/TimeSeriesAnalysisWithPython\n",
    "- https://www.cpc.ncep.noaa.gov/products/precip/CWlink/\n",
    "- https://github.com/CodeOp-tech/tsa-soyhyoj/blob/master/New_Years_Resolutions_Workshop.ipynb"
   ]
  }
 ],
 "metadata": {
  "kernelspec": {
   "display_name": "Python 3",
   "language": "python",
   "name": "python3"
  },
  "language_info": {
   "codemirror_mode": {
    "name": "ipython",
    "version": 3
   },
   "file_extension": ".py",
   "mimetype": "text/x-python",
   "name": "python",
   "nbconvert_exporter": "python",
   "pygments_lexer": "ipython3",
   "version": "3.8.5"
  }
 },
 "nbformat": 4,
 "nbformat_minor": 4
}
